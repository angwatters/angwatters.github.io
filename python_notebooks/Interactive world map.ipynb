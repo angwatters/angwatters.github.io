{
 "cells": [
  {
   "cell_type": "code",
   "execution_count": 3,
   "id": "49da14bb",
   "metadata": {},
   "outputs": [],
   "source": [
    "import pandas as pd\n",
    "import matplotlib.pyplot as plt\n",
    "import geopandas\n",
    "import pandas as pd\n",
    "import numpy as np\n",
    "import ipywidgets\n",
    "import bqplot \n",
    "import contextily as ctx"
   ]
  },
  {
   "cell_type": "code",
   "execution_count": 4,
   "id": "3e9d394c",
   "metadata": {
    "scrolled": true
   },
   "outputs": [],
   "source": [
    "data_url = './modified_ufo.csv'\n",
    "data = pd.read_csv(data_url)\n",
    "# data['country'].unique()"
   ]
  },
  {
   "cell_type": "code",
   "execution_count": 5,
   "id": "953519d0",
   "metadata": {},
   "outputs": [],
   "source": [
    "gdf = geopandas.GeoDataFrame(data, geometry=geopandas.points_from_xy(data.longitude, data.latitude))\n",
    "world = geopandas.read_file(geopandas.datasets.get_path('naturalearth_lowres'))"
   ]
  },
  {
   "cell_type": "code",
   "execution_count": 6,
   "id": "27d0541d",
   "metadata": {},
   "outputs": [
    {
     "data": {
      "application/vnd.jupyter.widget-view+json": {
       "model_id": "6278413387b04346b1368901432a57cb",
       "version_major": 2,
       "version_minor": 0
      },
      "text/plain": [
       "interactive(children=(Dropdown(description='UFO_shape', options=('cylinder', 'circle', 'light', 'sphere', 'dis…"
      ]
     },
     "metadata": {},
     "output_type": "display_data"
    }
   ],
   "source": [
    "@ipywidgets.interact(UFO_shape=gdf['UFO_shape'].unique())\n",
    "def make_plot(UFO_shape):\n",
    "    sub = gdf.loc[gdf['UFO_shape'] == UFO_shape]\n",
    "\n",
    "    fig, ax = plt.subplots(figsize=(20,10))\n",
    "\n",
    "#     ax.set_xlim(-200,150)\n",
    "#     ax.set_ylim(-20,100)\n",
    "    \n",
    "    world.plot(ax=ax, edgecolor='k', color='darkblue')\n",
    "    sub.plot(ax=ax, column='UFO_shape', cmap='summer', categorical=True, legend = True)\n",
    "    \n",
    "    plt.show()"
   ]
  },
  {
   "cell_type": "code",
   "execution_count": null,
   "id": "3fadd67e",
   "metadata": {},
   "outputs": [],
   "source": []
  }
 ],
 "metadata": {
  "kernelspec": {
   "display_name": "Python 3 (ipykernel)",
   "language": "python",
   "name": "python3"
  },
  "language_info": {
   "codemirror_mode": {
    "name": "ipython",
    "version": 3
   },
   "file_extension": ".py",
   "mimetype": "text/x-python",
   "name": "python",
   "nbconvert_exporter": "python",
   "pygments_lexer": "ipython3",
   "version": "3.7.12"
  }
 },
 "nbformat": 4,
 "nbformat_minor": 5
}
