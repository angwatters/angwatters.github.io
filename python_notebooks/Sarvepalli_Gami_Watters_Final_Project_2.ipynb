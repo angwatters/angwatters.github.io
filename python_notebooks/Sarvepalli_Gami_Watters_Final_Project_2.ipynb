{
 "cells": [
  {
   "cell_type": "markdown",
   "id": "1bc602ff",
   "metadata": {},
   "source": [
    "## Ashwini Sarvepalli, Anushka Gami, and Angela Watters\n",
    "  \n",
    "### Final Project Part 2 Playing Around with Dashboard "
   ]
  },
  {
   "cell_type": "code",
   "execution_count": 2,
   "id": "4ff56834",
   "metadata": {},
   "outputs": [],
   "source": [
    "import pandas as pd\n",
    "import bqplot\n",
    "import numpy as np\n",
    "import ipywidgets\n",
    "import matplotlib.pyplot as plt"
   ]
  },
  {
   "cell_type": "code",
   "execution_count": 4,
   "id": "12ba402f",
   "metadata": {},
   "outputs": [
    {
     "data": {
      "text/html": [
       "<div>\n",
       "<style scoped>\n",
       "    .dataframe tbody tr th:only-of-type {\n",
       "        vertical-align: middle;\n",
       "    }\n",
       "\n",
       "    .dataframe tbody tr th {\n",
       "        vertical-align: top;\n",
       "    }\n",
       "\n",
       "    .dataframe thead th {\n",
       "        text-align: right;\n",
       "    }\n",
       "</style>\n",
       "<table border=\"1\" class=\"dataframe\">\n",
       "  <thead>\n",
       "    <tr style=\"text-align: right;\">\n",
       "      <th></th>\n",
       "      <th>Date_time</th>\n",
       "      <th>city</th>\n",
       "      <th>state/province</th>\n",
       "      <th>country</th>\n",
       "      <th>UFO_shape</th>\n",
       "      <th>length_of_encounter_seconds</th>\n",
       "      <th>described_duration_of_encounter</th>\n",
       "      <th>description</th>\n",
       "      <th>date_documented</th>\n",
       "      <th>latitude</th>\n",
       "      <th>longitude</th>\n",
       "    </tr>\n",
       "  </thead>\n",
       "  <tbody>\n",
       "    <tr>\n",
       "      <th>0</th>\n",
       "      <td>10/10/1949 20:30</td>\n",
       "      <td>san marcos</td>\n",
       "      <td>tx</td>\n",
       "      <td>us</td>\n",
       "      <td>cylinder</td>\n",
       "      <td>2700</td>\n",
       "      <td>45 minutes</td>\n",
       "      <td>This event took place in early fall around 194...</td>\n",
       "      <td>4/27/2004</td>\n",
       "      <td>29.8830556</td>\n",
       "      <td>-97.941111</td>\n",
       "    </tr>\n",
       "    <tr>\n",
       "      <th>1</th>\n",
       "      <td>10/10/1949 21:00</td>\n",
       "      <td>lackland afb</td>\n",
       "      <td>tx</td>\n",
       "      <td>NaN</td>\n",
       "      <td>light</td>\n",
       "      <td>7200</td>\n",
       "      <td>1-2 hrs</td>\n",
       "      <td>1949 Lackland AFB&amp;#44 TX.  Lights racing acros...</td>\n",
       "      <td>12/16/2005</td>\n",
       "      <td>29.38421</td>\n",
       "      <td>-98.581082</td>\n",
       "    </tr>\n",
       "    <tr>\n",
       "      <th>2</th>\n",
       "      <td>10/10/1955 17:00</td>\n",
       "      <td>chester (uk/england)</td>\n",
       "      <td>NaN</td>\n",
       "      <td>gb</td>\n",
       "      <td>circle</td>\n",
       "      <td>20</td>\n",
       "      <td>20 seconds</td>\n",
       "      <td>Green/Orange circular disc over Chester&amp;#44 En...</td>\n",
       "      <td>1/21/2008</td>\n",
       "      <td>53.2</td>\n",
       "      <td>-2.916667</td>\n",
       "    </tr>\n",
       "    <tr>\n",
       "      <th>3</th>\n",
       "      <td>10/10/1956 21:00</td>\n",
       "      <td>edna</td>\n",
       "      <td>tx</td>\n",
       "      <td>us</td>\n",
       "      <td>circle</td>\n",
       "      <td>20</td>\n",
       "      <td>1/2 hour</td>\n",
       "      <td>My older brother and twin sister were leaving ...</td>\n",
       "      <td>1/17/2004</td>\n",
       "      <td>28.9783333</td>\n",
       "      <td>-96.645833</td>\n",
       "    </tr>\n",
       "    <tr>\n",
       "      <th>4</th>\n",
       "      <td>10/10/1960 20:00</td>\n",
       "      <td>kaneohe</td>\n",
       "      <td>hi</td>\n",
       "      <td>us</td>\n",
       "      <td>light</td>\n",
       "      <td>900</td>\n",
       "      <td>15 minutes</td>\n",
       "      <td>AS a Marine 1st Lt. flying an FJ4B fighter/att...</td>\n",
       "      <td>1/22/2004</td>\n",
       "      <td>21.4180556</td>\n",
       "      <td>-157.803611</td>\n",
       "    </tr>\n",
       "  </tbody>\n",
       "</table>\n",
       "</div>"
      ],
      "text/plain": [
       "          Date_time                  city state/province country UFO_shape  \\\n",
       "0  10/10/1949 20:30            san marcos             tx      us  cylinder   \n",
       "1  10/10/1949 21:00          lackland afb             tx     NaN     light   \n",
       "2  10/10/1955 17:00  chester (uk/england)            NaN      gb    circle   \n",
       "3  10/10/1956 21:00                  edna             tx      us    circle   \n",
       "4  10/10/1960 20:00               kaneohe             hi      us     light   \n",
       "\n",
       "  length_of_encounter_seconds described_duration_of_encounter  \\\n",
       "0                        2700                      45 minutes   \n",
       "1                        7200                         1-2 hrs   \n",
       "2                          20                      20 seconds   \n",
       "3                          20                        1/2 hour   \n",
       "4                         900                      15 minutes   \n",
       "\n",
       "                                         description date_documented  \\\n",
       "0  This event took place in early fall around 194...       4/27/2004   \n",
       "1  1949 Lackland AFB&#44 TX.  Lights racing acros...      12/16/2005   \n",
       "2  Green/Orange circular disc over Chester&#44 En...       1/21/2008   \n",
       "3  My older brother and twin sister were leaving ...       1/17/2004   \n",
       "4  AS a Marine 1st Lt. flying an FJ4B fighter/att...       1/22/2004   \n",
       "\n",
       "     latitude   longitude  \n",
       "0  29.8830556  -97.941111  \n",
       "1    29.38421  -98.581082  \n",
       "2        53.2   -2.916667  \n",
       "3  28.9783333  -96.645833  \n",
       "4  21.4180556 -157.803611  "
      ]
     },
     "execution_count": 4,
     "metadata": {},
     "output_type": "execute_result"
    }
   ],
   "source": [
    "ufo = pd.read_csv(\"ufo_sighting_data.csv\",dtype={\"length_of_encounter_seconds\": \"string\", \"latitude\": \"string\"})\n",
    "\n",
    "ufo.head()\n"
   ]
  },
  {
   "cell_type": "code",
   "execution_count": null,
   "id": "a194d79c",
   "metadata": {},
   "outputs": [],
   "source": []
  },
  {
   "cell_type": "code",
   "execution_count": null,
   "id": "e827c853",
   "metadata": {},
   "outputs": [],
   "source": [
    "ufo[\"latitude\"] = pd.to_numeric(ufo[\"latitude\"], errors=\"coerce\")\n",
    "ufo[\"length_of_encounter_seconds\"] = pd.to_numeric(ufo[\"length_of_encounter_seconds\"], errors=\"coerce\")\n",
    "ufo.dropna(axis=0,inplace=True)\n",
    "pd.options.display.float_format = '{:20,.2f}'.format\n",
    "ufo.describe()\n"
   ]
  },
  {
   "cell_type": "code",
   "execution_count": null,
   "id": "2da92620",
   "metadata": {},
   "outputs": [],
   "source": [
    "ufo['date_documented'] = pd.Series([\n",
    "    pd.to_datetime(\n",
    "        date,\n",
    "        format = '%Y%m%d',\n",
    "        errors='coerce'\n",
    "    ) for date in ufo['date_documented']\n",
    "])\n"
   ]
  },
  {
   "cell_type": "code",
   "execution_count": null,
   "id": "28d50da6",
   "metadata": {},
   "outputs": [],
   "source": [
    "ufo[['date','time']] = ufo['Date_time'].str.split(expand=True)\n",
    "ufo['datetime'] = (pd.to_datetime(ufo.pop('date'), format='%m/%d/%Y') +\n",
    "                  pd.to_timedelta(ufo.pop('time') + ':00'))\n",
    "ufo['year'] = pd.DatetimeIndex(ufo['datetime']).year\n",
    "ufo.head()"
   ]
  },
  {
   "cell_type": "code",
   "execution_count": null,
   "id": "f9f06de8",
   "metadata": {},
   "outputs": [],
   "source": [
    "ufo.columns"
   ]
  },
  {
   "cell_type": "code",
   "execution_count": null,
   "id": "0cb21d0e",
   "metadata": {},
   "outputs": [],
   "source": [
    "import altair as alt"
   ]
  },
  {
   "cell_type": "code",
   "execution_count": null,
   "id": "95df664b",
   "metadata": {},
   "outputs": [],
   "source": [
    "chart1 = alt.Chart.from_dict({\n",
    "  \"data\": {\"url\": \"ufo_sighting_data.csv\"},\n",
    "  \"mark\": {\"type\": \"rect\", \"strokeWidth\": 2},\n",
    "  \"height\":400,\n",
    "  \"width\":300,\n",
    "  \"encoding\": {\n",
    "    \"x\":{\"timeUnit\": \"year\",\"field\":\"date_documented\", \"type\":\"temporal\"},\n",
    "    \"y\":{\"field\":\"country\",\"type\":\"ordinal\"},\n",
    "    \"fill\":{\"aggregate\":\"count\", \"type\":\"quantitative\"},\n",
    "      \n",
    "       } \n",
    "}\n",
    ")\n"
   ]
  },
  {
   "cell_type": "code",
   "execution_count": null,
   "id": "ca9d2072",
   "metadata": {},
   "outputs": [],
   "source": [
    "chart1"
   ]
  },
  {
   "cell_type": "code",
   "execution_count": null,
   "id": "3bd09526",
   "metadata": {},
   "outputs": [],
   "source": [
    "chart2 = alt.Chart.from_dict({\n",
    "    \"data\": {\"url\": \"ufo_sighting_data.csv\"},\n",
    "    \"mark\":\"bar\",\n",
    "    \"height\":400,\n",
    "    \"width\":300,\n",
    "    \"encoding\":{\n",
    "           \"x\":{\"field\":\"UFO_shape\", \"type\":\"nominal\", \"title\":\"Shape of UFO\"},\n",
    "            \"y\": {\"aggregate\": \"count\", \"axis\": {\"title\": \"Frequency\"}}\n",
    "     }    \n",
    "}\n",
    "    \n",
    ")"
   ]
  },
  {
   "cell_type": "code",
   "execution_count": null,
   "id": "08e5bbf6",
   "metadata": {},
   "outputs": [],
   "source": [
    "chart2"
   ]
  },
  {
   "cell_type": "code",
   "execution_count": null,
   "id": "662158be",
   "metadata": {},
   "outputs": [],
   "source": [
    "myJekyllSaveDir = '/Users/angelawatters/Documents/GitHub/angwatters.github.io/assets/json/'"
   ]
  },
  {
   "cell_type": "code",
   "execution_count": null,
   "id": "a21db8d4",
   "metadata": {},
   "outputs": [],
   "source": [
    "chart1.properties(width='container').save(myJekyllSaveDir+'rect2_fp_bf.json')"
   ]
  },
  {
   "cell_type": "code",
   "execution_count": null,
   "id": "5ed6ec54",
   "metadata": {},
   "outputs": [],
   "source": [
    "chart2.properties(width='container').save(myJekyllSaveDir+'hist2_fp_bf.json')"
   ]
  },
  {
   "cell_type": "code",
   "execution_count": null,
   "id": "904eefae",
   "metadata": {},
   "outputs": [],
   "source": [
    "hist2 = alt.Chart.from_dict({\n",
    "    \"data\": {\"url\": \"ufo_sighting_data.csv\"},\n",
    "    \"mark\":\"bar\",\n",
    "    \"height\":400,\n",
    "    \"width\":300,\n",
    "    \"encoding\":{\n",
    "           \"x\":{\"field\":\"UFO_shape\", \"type\":\"nominal\", \"title\":\"Shape of UFO\"},\n",
    "            \"y\": {\"aggregate\": \"count\", \"axis\": {\"title\": \"Frequency\"}}\n",
    "     }    \n",
    "}\n",
    ")\n",
    "hist2"
   ]
  },
  {
   "cell_type": "code",
   "execution_count": null,
   "id": "ec3f3922",
   "metadata": {},
   "outputs": [],
   "source": [
    "rect2 = alt.Chart.from_dict( {\n",
    "  \"data\": {\"url\": \"ufo_sighting_data.csv\"},\n",
    "  \"mark\": {\"type\": \"rect\", \"strokeWidth\": 2},\n",
    "  \"height\":400,\n",
    "  \"width\":300,\n",
    "  \"encoding\": {\n",
    "    \"x\":{\"timeUnit\": \"year\",\"field\":\"date_documented\", \"type\":\"temporal\"},\n",
    "    \"y\":{\"field\":\"country\",\"type\":\"ordinal\"},\n",
    "    \"fill\":{\"aggregate\":\"count\", \"type\":\"quantitative\"},\n",
    "      \n",
    "       } \n",
    "}\n",
    ")\n",
    "rect2"
   ]
  },
  {
   "cell_type": "code",
   "execution_count": null,
   "id": "6354db10",
   "metadata": {},
   "outputs": [],
   "source": [
    "chart = alt.HConcatChart(hconcat=[rect2, hist2])\n",
    "chart"
   ]
  },
  {
   "cell_type": "code",
   "execution_count": null,
   "id": "f83e1c2b",
   "metadata": {},
   "outputs": [],
   "source": [
    "#chart.properties(width='container').save(myJekyllSavDir+'sidebyside.json')\n",
    "chart.save(myJekyllSaveDir+'fp_sidebyside2.json')"
   ]
  },
  {
   "cell_type": "code",
   "execution_count": null,
   "id": "d5264fe0",
   "metadata": {},
   "outputs": [],
   "source": [
    "brush = alt.selection_interval(encodings=['x','y'])"
   ]
  },
  {
   "cell_type": "code",
   "execution_count": null,
   "id": "94440b99",
   "metadata": {},
   "outputs": [],
   "source": [
    "rect2 = alt.Chart.from_dict( {\n",
    "  \"data\": {\"url\": \"ufo_sighting_data.csv\"},\n",
    "  \"mark\": {\"type\": \"rect\", \"strokeWidth\": 2},\n",
    "  \"height\":400,\n",
    "  \"width\":300,\n",
    "  \"encoding\": {\n",
    "    \"x\":{\"timeUnit\": \"year\",\"field\":\"date_documented\", \"type\":\"temporal\"},\n",
    "    \"y\":{\"field\":\"country\",\"type\":\"ordinal\"},\n",
    "    \"fill\":{\"aggregate\":\"count\", \"type\":\"quantitative\"},\n",
    "      \n",
    "       } \n",
    "}\n",
    ").add_selection(\n",
    "brush\n",
    ")\n",
    "rect2"
   ]
  },
  {
   "cell_type": "code",
   "execution_count": null,
   "id": "78c6c968",
   "metadata": {},
   "outputs": [],
   "source": [
    "hist2 = alt.Chart.from_dict({\n",
    "    \"data\": {\"url\": \"ufo_sighting_data.csv\"},\n",
    "    \"mark\":\"bar\",\n",
    "    \"height\":400,\n",
    "    \"width\":300,\n",
    "    \"encoding\":{\n",
    "           \"x\":{\"field\":\"UFO_shape\", \"type\":\"nominal\", \"title\":\"Shape of the UFO\"},\n",
    "            \"y\": {\"aggregate\": \"count\", \"axis\": {\"title\": \"Frequency\"}}\n",
    "     }    \n",
    "}\n",
    "  ).transform_filter(\n",
    "    brush\n",
    ")\n",
    "#hist2"
   ]
  },
  {
   "cell_type": "code",
   "execution_count": null,
   "id": "6ca5f395",
   "metadata": {},
   "outputs": [],
   "source": [
    "dashboard = rect2 | hist2"
   ]
  },
  {
   "cell_type": "code",
   "execution_count": null,
   "id": "f63f00db",
   "metadata": {},
   "outputs": [],
   "source": [
    "dashboard"
   ]
  },
  {
   "cell_type": "code",
   "execution_count": null,
   "id": "673805b1",
   "metadata": {},
   "outputs": [],
   "source": [
    "# dashboard.save(myJekyllSaveDir+'dashboard_ufo2_from_dict.json')"
   ]
  },
  {
   "cell_type": "markdown",
   "id": "63f8436b",
   "metadata": {},
   "source": [
    "### Dashboard Description\n",
    "\n",
    "For this dashboard we can observe on the left graph a heat graph that depicts the amount of UFO sightings based on the country and the year documented. From the data we can see a concentrated amount of records for the us as accordance to the legend on the right hand side. Once a user is selects a data box on the left map, the right graph is a bar graph that depicts the UFO shapes of the number of records from that year and country."
   ]
  },
  {
   "cell_type": "markdown",
   "id": "fc3cb850",
   "metadata": {},
   "source": [
    "### How Large is the Dataset?\n",
    "\n",
    "Our dataset is is a 13.7 MB csv file and has 80332 rows and 11 columms of data. Github limits files above 100MB so we don't have to worry about hosting the data ourselves."
   ]
  },
  {
   "cell_type": "markdown",
   "id": "6ae71a42",
   "metadata": {},
   "source": [
    "### Contextual Data\n",
    "\n",
    "A list of 1 or more contextual datasets you have identified, links to where they reside, and a sentence about why they might be useful in telling the final story.\n",
    "by \"contextual dataset\" here means a dataset that would add context to your chosen dataset.  For example, if your dataset is the Champaign bus routes, some interesting contextual datasets could be the Chicago bus routes, or the Springfield bus routes, or the Amtrak routes in Champaign\n",
    "you do not have to do anything with this dataset at the moment beyond writing a bit about why it would be useful.  Looking forward, you will want to include \"contextual visualizations\" (which you may or may not generate on your own) in your Final Project, Part 3 and identifying a possibly useful dataset is a great way to start looking for contextual visualizations."
   ]
  },
  {
   "cell_type": "markdown",
   "id": "879207ac",
   "metadata": {},
   "source": [
    "### Contextual Datasets\n",
    "\n",
    "Near Earth Object observed by NASA (1900-2021) https://www.kaggle.com/datasets/ramjasmaurya/near-earth-objects-observed-by-nasa \\\n",
    "Meteorite Landings - https://www.kaggle.com/datasets/nasa/meteorite-landings\n",
    "\n",
    "### Descriptions\n",
    "The first dataset is for near-Earth objects observed by NASA. A near-Earth object (NEO) is an asteroid or comet that passes close to the Earth's orbit. The dataset has sightings from 1900 to 2021, and it will pair nicely with our primary dataset which has observations from 1900 and beyond. We think this dataset will add help us context to visualizations we create with our primary one since it is possible that people have confused NEOs for UFOs in their sightings.\n",
    "\n",
    "\n",
    "This second link is a dataset that showcases data regarding meteorites that have fallen on Earth. It contains over 45,000 observations and will help provide insight on which sorts of objects have been seen close to Earth. We think it would be a good idea to compare the latitude, longitude, and year of these observations with those in our primary dataset to see if there are any meteorites that could have been mistaken as UFOs. Also, we think the mass of the meteorites will be an interesting metric to consider as well."
   ]
  }
 ],
 "metadata": {
  "kernelspec": {
   "display_name": "Python 3 (ipykernel)",
   "language": "python",
   "name": "python3"
  },
  "language_info": {
   "codemirror_mode": {
    "name": "ipython",
    "version": 3
   },
   "file_extension": ".py",
   "mimetype": "text/x-python",
   "name": "python",
   "nbconvert_exporter": "python",
   "pygments_lexer": "ipython3",
   "version": "3.7.12"
  }
 },
 "nbformat": 4,
 "nbformat_minor": 5
}
